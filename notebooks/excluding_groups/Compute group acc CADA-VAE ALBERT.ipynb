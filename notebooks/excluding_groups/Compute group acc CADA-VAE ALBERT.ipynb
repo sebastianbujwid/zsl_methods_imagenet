{
 "cells": [
  {
   "cell_type": "code",
   "execution_count": 25,
   "metadata": {},
   "outputs": [],
   "source": [
    "import sys\n",
    "import pickle\n",
    "import numpy as np\n",
    "\n",
    "sys.path.append('PATH/code/zsl_text_imagenet/') # https://github.com/sebastianbujwid/zsl_text_imagenet"
   ]
  },
  {
   "cell_type": "code",
   "execution_count": 6,
   "metadata": {},
   "outputs": [],
   "source": [
    "from data import imagenet"
   ]
  },
  {
   "cell_type": "code",
   "execution_count": 7,
   "metadata": {},
   "outputs": [],
   "source": [
    "wnid_animals = 'n00015388'\n",
    "wnid_plants = ['n00017222', 'n07707451', 'n13134947']"
   ]
  },
  {
   "cell_type": "code",
   "execution_count": null,
   "metadata": {},
   "outputs": [],
   "source": [
    "imagenet_id_details = imagenet.extract_imagenet_id_details(\n",
    "    '/PATH/data/zsl/synthetized_classifiers_for_zsl/ImageNet_w2v/ImageNet_w2v_extra.pkl'\n",
    ")\n",
    "imagenet_ancestors = pickle.load(\n",
    "    open('PATH/code/zsl_text_imagenet/data/imagenet/imagenet_wordnet_ancestor_categories.pkl', 'rb')\n",
    ")"
   ]
  },
  {
   "cell_type": "code",
   "execution_count": 37,
   "metadata": {},
   "outputs": [],
   "source": [
    "def is_a(wnid, group_wnids):\n",
    "    if isinstance(group_wnids, str):\n",
    "        group_wnids = [group_wnids]\n",
    "    \n",
    "    r = False\n",
    "    for g_wnid in group_wnids:\n",
    "        if g_wnid in imagenet_ancestors[wnid]:\n",
    "            r = True\n",
    "    \n",
    "    return r\n",
    "\n",
    "def print_results(pkl):\n",
    "    d = pickle.load(open(pkl, 'rb'))\n",
    "    \n",
    "    print('top1')\n",
    "    animals = {}\n",
    "    plants = {}\n",
    "    other = {}\n",
    "    for wnid, r in d['test_unseen_top1_acc'].items():\n",
    "        if is_a(wnid, wnid_animals):\n",
    "            animals[wnid] = r\n",
    "        elif is_a(wnid, wnid_plants):\n",
    "            plants[wnid] = r\n",
    "        else:\n",
    "            other[wnid] = r\n",
    "            \n",
    "    print(f'animals [{len(animals)}]: {np.array(list(animals.values())).mean()}')\n",
    "    print(f'plants [{len(plants)}]: {np.array(list(plants.values())).mean()}')\n",
    "    print(f'other [{len(other)}]: {np.array(list(other.values())).mean()}')\n",
    "    \n",
    "    print()\n",
    "    print('top5')\n",
    "    animals = {}\n",
    "    plants = {}\n",
    "    other = {}\n",
    "    for wnid, r in d['test_unseen_top5_acc'].items():\n",
    "        if is_a(wnid, wnid_animals):\n",
    "            animals[wnid] = r\n",
    "        elif is_a(wnid, wnid_plants):\n",
    "            plants[wnid] = r\n",
    "        else:\n",
    "            other[wnid] = r\n",
    "            \n",
    "    print(f'animals [{len(animals)}]: {np.array(list(animals.values())).mean()}')\n",
    "    print(f'plants [{len(plants)}]: {np.array(list(plants.values())).mean()}')\n",
    "    print(f'other [{len(other)}]: {np.array(list(other.values())).mean()}')\n"
   ]
  },
  {
   "cell_type": "code",
   "execution_count": 40,
   "metadata": {},
   "outputs": [
    {
     "name": "stdout",
     "output_type": "stream",
     "text": [
      "ORIGINAL\n",
      "\n",
      "top1\n",
      "animals [82]: 0.23835895955562592\n",
      "plants [39]: 0.034307606518268585\n",
      "other [368]: 0.19780179858207703\n",
      "\n",
      "top5\n",
      "animals [82]: 0.5891638398170471\n",
      "plants [39]: 0.138204887509346\n",
      "other [368]: 0.45229431986808777\n"
     ]
    }
   ],
   "source": [
    "print('ORIGINAL')\n",
    "print()\n",
    "\n",
    "print_results('PATH/cada_vae/zls/eval/mp500/albert-xxlarge-v2_wiki_ALL/runrs-xxl_ALL-1013/lexp_run001/2020-05-25_04-45-31_N_N/test_results_mp500.pkl')"
   ]
  },
  {
   "cell_type": "code",
   "execution_count": 41,
   "metadata": {},
   "outputs": [
    {
     "name": "stdout",
     "output_type": "stream",
     "text": [
      "Exclude animals\n",
      "top1\n",
      "animals [82]: 0.019352728500962257\n",
      "plants [39]: 0.03690165653824806\n",
      "other [368]: 0.20666922628879547\n",
      "\n",
      "top5\n",
      "animals [82]: 0.08132368326187134\n",
      "plants [39]: 0.1365046203136444\n",
      "other [368]: 0.4550626575946808\n"
     ]
    }
   ],
   "source": [
    "print('Exclude animals')\n",
    "\n",
    "print_results('PATH/cada_vae/zls/eval/exclude_groups_mp500/runrs-xxl_ALL-1013_splits_exclude_animals/lexp_run001/2020-05-30_16-59-40_N_N/test_results_mp500.pkl')"
   ]
  },
  {
   "cell_type": "code",
   "execution_count": 42,
   "metadata": {},
   "outputs": [
    {
     "name": "stdout",
     "output_type": "stream",
     "text": [
      "Exclude non-animals\n",
      "top1\n",
      "animals [82]: 0.2253943830728531\n",
      "plants [39]: 0.026881251484155655\n",
      "other [368]: 0.1152021586894989\n",
      "\n",
      "top5\n",
      "animals [82]: 0.5987444519996643\n",
      "plants [39]: 0.11647691577672958\n",
      "other [368]: 0.32689642906188965\n"
     ]
    }
   ],
   "source": [
    "print('Exclude non-animals')\n",
    "\n",
    "print_results('PATH/cada_vae/zls/eval/exclude_groups_mp500/runrs-xxl_ALL-1013_splits_exclude_nonanimals/lexp_run001/2020-05-30_16-59-40_N_N/test_results_mp500.pkl')"
   ]
  },
  {
   "cell_type": "code",
   "execution_count": 43,
   "metadata": {},
   "outputs": [
    {
     "name": "stdout",
     "output_type": "stream",
     "text": [
      "Exclude plants\n",
      "top1\n",
      "animals [82]: 0.24839790165424347\n",
      "plants [39]: 0.010675624012947083\n",
      "other [368]: 0.19883844256401062\n",
      "\n",
      "top5\n",
      "animals [82]: 0.6012451648712158\n",
      "plants [39]: 0.056864481419324875\n",
      "other [368]: 0.45303207635879517\n"
     ]
    }
   ],
   "source": [
    "print('Exclude plants')\n",
    "\n",
    "print_results('PATH/cada_vae/zls/eval/exclude_groups_mp500/runrs-xxl_ALL-1013_splits_exclude_plants/lexp_run001/2020-05-30_16-59-40_N_N/test_results_mp500.pkl')"
   ]
  },
  {
   "cell_type": "code",
   "execution_count": 44,
   "metadata": {},
   "outputs": [
    {
     "name": "stdout",
     "output_type": "stream",
     "text": [
      "Exclude non-plants\n",
      "top1\n",
      "animals [82]: 0.2452934980392456\n",
      "plants [39]: 0.030476588755846024\n",
      "other [368]: 0.19878752529621124\n",
      "\n",
      "top5\n",
      "animals [82]: 0.5813729763031006\n",
      "plants [39]: 0.1181982085108757\n",
      "other [368]: 0.45385104417800903\n"
     ]
    }
   ],
   "source": [
    "print('Exclude non-plants')\n",
    "\n",
    "print_results('PATH/cada_vae/zls/eval/exclude_groups_mp500/runrs-xxl_ALL-1013_splits_exclude_nonplants/lexp_run001/2020-05-30_16-59-40_N_N/test_results_mp500.pkl')"
   ]
  }
 ],
 "metadata": {
  "kernelspec": {
   "display_name": "Python [conda env:dl] *",
   "language": "python",
   "name": "conda-env-dl-py"
  },
  "language_info": {
   "codemirror_mode": {
    "name": "ipython",
    "version": 3
   },
   "file_extension": ".py",
   "mimetype": "text/x-python",
   "name": "python",
   "nbconvert_exporter": "python",
   "pygments_lexer": "ipython3",
   "version": "3.7.7"
  }
 },
 "nbformat": 4,
 "nbformat_minor": 4
}
