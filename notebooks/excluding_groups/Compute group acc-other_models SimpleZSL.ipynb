{
 "cells": [
  {
   "cell_type": "code",
   "execution_count": 1,
   "metadata": {},
   "outputs": [
    {
     "name": "stdout",
     "output_type": "stream",
     "text": [
      "env: CUDA_DEVICE_ORDER=PCI_BUS_ID\n",
      "env: CUDA_VISIBLE_DEVICES=0\n"
     ]
    }
   ],
   "source": [
    "%env CUDA_DEVICE_ORDER=PCI_BUS_ID\n",
    "%env CUDA_VISIBLE_DEVICES=0"
   ]
  },
  {
   "cell_type": "code",
   "execution_count": 2,
   "metadata": {},
   "outputs": [],
   "source": [
    "import sys\n",
    "import pickle\n",
    "import numpy as np\n",
    "from pathlib import Path\n",
    "\n",
    "sys.path.append('PATH/code/zsl_text_imagenet/') # https://github.com/sebastianbujwid/zsl_text_imagenet"
   ]
  },
  {
   "cell_type": "code",
   "execution_count": 3,
   "metadata": {},
   "outputs": [],
   "source": [
    "from data import imagenet"
   ]
  },
  {
   "cell_type": "code",
   "execution_count": 4,
   "metadata": {},
   "outputs": [],
   "source": [
    "wnid_animals = 'n00015388'\n",
    "wnid_plants = ['n00017222', 'n07707451', 'n13134947']"
   ]
  },
  {
   "cell_type": "code",
   "execution_count": null,
   "metadata": {},
   "outputs": [],
   "source": [
    "imagenet_id_details = imagenet.extract_imagenet_id_details(\n",
    "    '/PATH/data/zsl/synthetized_classifiers_for_zsl/ImageNet_w2v/ImageNet_w2v_extra.pkl'\n",
    ")\n",
    "imagenet_ancestors = pickle.load(\n",
    "    open('PATH/code/zsl_text_imagenet/data/imagenet/imagenet_wordnet_ancestor_categories.pkl', 'rb')\n",
    ")"
   ]
  },
  {
   "cell_type": "code",
   "execution_count": 9,
   "metadata": {},
   "outputs": [],
   "source": [
    "def is_a(wnid, group_wnids):\n",
    "    if isinstance(group_wnids, str):\n",
    "        group_wnids = [group_wnids]\n",
    "    \n",
    "    r = False\n",
    "    for g_wnid in group_wnids:\n",
    "        if g_wnid in imagenet_ancestors[wnid]:\n",
    "            r = True\n",
    "    \n",
    "    return r\n",
    "\n",
    "def print_results(pkl, only_top1=True):\n",
    "    d = pickle.load(open(pkl, 'rb'))\n",
    "    \n",
    "    print('top1')\n",
    "    animals = {}\n",
    "    plants = {}\n",
    "    other = {}\n",
    "    for wnid, r in d['test_unseen_top1_acc'].items():\n",
    "        if is_a(wnid, wnid_animals):\n",
    "            animals[wnid] = r\n",
    "        elif is_a(wnid, wnid_plants):\n",
    "            plants[wnid] = r\n",
    "        else:\n",
    "            other[wnid] = r\n",
    "            \n",
    "    print(f'animals [{len(animals)}]: {np.array(list(animals.values())).mean()}')\n",
    "    print(f'plants [{len(plants)}]: {np.array(list(plants.values())).mean()}')\n",
    "    print(f'other [{len(other)}]: {np.array(list(other.values())).mean()}')\n",
    "    \n",
    "    if only_top1:\n",
    "        return\n",
    "    \n",
    "    print()\n",
    "    print('top5')\n",
    "    animals = {}\n",
    "    plants = {}\n",
    "    other = {}\n",
    "    for wnid, r in d['test_unseen_top5_acc'].items():\n",
    "        if is_a(wnid, wnid_animals):\n",
    "            animals[wnid] = r\n",
    "        elif is_a(wnid, wnid_plants):\n",
    "            plants[wnid] = r\n",
    "        else:\n",
    "            other[wnid] = r\n",
    "            \n",
    "    print(f'animals [{len(animals)}]: {np.array(list(animals.values())).mean()}')\n",
    "    print(f'plants [{len(plants)}]: {np.array(list(plants.values())).mean()}')\n",
    "    print(f'other [{len(other)}]: {np.array(list(other.values())).mean()}')\n"
   ]
  },
  {
   "cell_type": "code",
   "execution_count": 7,
   "metadata": {},
   "outputs": [],
   "source": [
    "albert_dir = Path('PATH/simple_zsl/eval/exclude_groups_mp500/albert_xxl_ALL_1006')\n",
    "glove_dir = Path('PATH/simple_zsl/eval/exclude_groups_mp500/glove_ALL_1015')\n",
    "w2v_dir = Path('PATH/simple_zsl/eval/exclude_groups_mp500/w2v_ALL_w2v1000')"
   ]
  },
  {
   "cell_type": "code",
   "execution_count": 8,
   "metadata": {},
   "outputs": [],
   "source": [
    "def get_results_file(path: Path):\n",
    "    r = list(path.rglob('test_*.pkl'))\n",
    "    if len(r) != 1:\n",
    "        raise ValueError(f'Could not get results from {path}\\n{r}')\n",
    "    return r[0]"
   ]
  },
  {
   "cell_type": "markdown",
   "metadata": {},
   "source": [
    "# ALBERT-xxlarge"
   ]
  },
  {
   "cell_type": "code",
   "execution_count": 29,
   "metadata": {},
   "outputs": [
    {
     "name": "stdout",
     "output_type": "stream",
     "text": [
      "ORIGINAL\n",
      "\n",
      "top5\n",
      "animals [82]: 0.506726861000061\n",
      "plants [39]: 0.1548217236995697\n",
      "other [368]: 0.4493066668510437\n",
      "\n",
      "\n",
      "\n",
      "Exclude animals\n",
      "\n",
      "top5\n",
      "animals [82]: 0.0364919975399971\n",
      "plants [39]: 0.16690871119499207\n",
      "other [368]: 0.4347641170024872\n",
      "\n",
      "\n",
      "\n",
      "Exclude non-animals\n",
      "\n",
      "top5\n",
      "animals [82]: 0.4751695394515991\n",
      "plants [39]: 0.18375174701213837\n",
      "other [368]: 0.30244871973991394\n",
      "\n",
      "\n",
      "\n",
      "Exclude plants\n",
      "\n",
      "top5\n",
      "animals [82]: 0.4743635058403015\n",
      "plants [39]: 0.13664023578166962\n",
      "other [368]: 0.45126450061798096\n",
      "\n",
      "\n",
      "\n",
      "Exclude non-plants\n",
      "\n",
      "top5\n",
      "animals [82]: 0.4791962802410126\n",
      "plants [39]: 0.14875528216362\n",
      "other [368]: 0.44973671436309814\n"
     ]
    }
   ],
   "source": [
    "print('ORIGINAL')\n",
    "\n",
    "print_results(get_results_file(Path(\n",
    "    'PATH/simple_zsl/eval/eval/mp500/szsl_albert-xxl_wiki_ALL/runzslsrs-xxl1006_42'\n",
    ")))\n",
    "\n",
    "print('\\n\\n')\n",
    "print('Exclude animals')\n",
    "print_results(get_results_file(albert_dir / 'runzslsrs-xxl1006_splits_exclude_animals'))\n",
    "print('\\n\\n')\n",
    "print('Exclude non-animals')\n",
    "print_results(get_results_file(albert_dir / 'runzslsrs-xxl1006_splits_exclude_nonanimals'))\n",
    "print('\\n\\n')\n",
    "print('Exclude plants')\n",
    "print_results(get_results_file(albert_dir / 'runzslsrs-xxl1006_splits_exclude_plants'))\n",
    "print('\\n\\n')\n",
    "print('Exclude non-plants')\n",
    "print_results(get_results_file(albert_dir / 'runzslsrs-xxl1006_splits_exclude_nonplants'))"
   ]
  },
  {
   "cell_type": "markdown",
   "metadata": {},
   "source": [
    "# GloVe"
   ]
  },
  {
   "cell_type": "code",
   "execution_count": 28,
   "metadata": {},
   "outputs": [
    {
     "name": "stdout",
     "output_type": "stream",
     "text": [
      "ORIGINAL\n",
      "\n",
      "top5\n",
      "animals [82]: 0.511250376701355\n",
      "plants [39]: 0.19831953942775726\n",
      "other [368]: 0.4772208631038666\n",
      "\n",
      "\n",
      "\n",
      "Exclude animals\n",
      "\n",
      "top5\n",
      "animals [82]: 0.05460485443472862\n",
      "plants [39]: 0.1775784194469452\n",
      "other [368]: 0.458220511674881\n",
      "\n",
      "\n",
      "\n",
      "Exclude non-animals\n",
      "\n",
      "top5\n",
      "animals [82]: 0.4789133369922638\n",
      "plants [39]: 0.18297049403190613\n",
      "other [368]: 0.3462385833263397\n",
      "\n",
      "\n",
      "\n",
      "Exclude plants\n",
      "\n",
      "top5\n",
      "animals [82]: 0.5109047889709473\n",
      "plants [39]: 0.1835872381925583\n",
      "other [368]: 0.4761269688606262\n",
      "\n",
      "\n",
      "\n",
      "Exclude non-plants\n",
      "\n",
      "top5\n",
      "animals [82]: 0.4832930564880371\n",
      "plants [39]: 0.20144562423229218\n",
      "other [368]: 0.47577965259552\n"
     ]
    }
   ],
   "source": [
    "print('ORIGINAL')\n",
    "\n",
    "print_results(get_results_file(Path(\n",
    "    'PATH/simple_zsl/eval/eval/mp500/szsl_wemb_glove_wiki_ALL/test_runzslsrs-wemb-glove-1015_42'\n",
    ")))\n",
    "\n",
    "print('\\n\\n')\n",
    "print('Exclude animals')\n",
    "print_results(get_results_file(glove_dir / 'test_runzslsrs-wemb-glove-1015_splits_exclude_animals'))\n",
    "print('\\n\\n')\n",
    "print('Exclude non-animals')\n",
    "print_results(get_results_file(glove_dir / 'test_runzslsrs-wemb-glove-1015_splits_exclude_nonanimals'))\n",
    "print('\\n\\n')\n",
    "print('Exclude plants')\n",
    "print_results(get_results_file(glove_dir / 'test_runzslsrs-wemb-glove-1015_splits_exclude_plants'))\n",
    "print('\\n\\n')\n",
    "print('Exclude non-plants')\n",
    "print_results(get_results_file(glove_dir / 'test_runzslsrs-wemb-glove-1015_splits_exclude_nonplants'))"
   ]
  },
  {
   "cell_type": "markdown",
   "metadata": {},
   "source": [
    "# W2V"
   ]
  },
  {
   "cell_type": "code",
   "execution_count": 15,
   "metadata": {},
   "outputs": [
    {
     "name": "stdout",
     "output_type": "stream",
     "text": [
      "ORIGINAL\n",
      "\n",
      "top5\n",
      "animals [84]: 0.33487507700920105\n",
      "plants [40]: 0.1276433765888214\n",
      "other [376]: 0.2772156596183777\n",
      "\n",
      "\n",
      "\n",
      "Exclude animals\n",
      "\n",
      "top5\n",
      "animals [84]: 0.10574321448802948\n",
      "plants [40]: 0.12734892964363098\n",
      "other [376]: 0.24885067343711853\n",
      "\n",
      "\n",
      "\n",
      "Exclude non-animals\n",
      "\n",
      "top5\n",
      "animals [84]: 0.3075043559074402\n",
      "plants [40]: 0.16200962662696838\n",
      "other [376]: 0.19652917981147766\n",
      "\n",
      "\n",
      "\n",
      "Exclude plants\n",
      "\n",
      "top5\n",
      "animals [84]: 0.30598726868629456\n",
      "plants [40]: 0.12969925999641418\n",
      "other [376]: 0.26181161403656006\n",
      "\n",
      "\n",
      "\n",
      "Exclude non-plants\n",
      "\n",
      "top5\n",
      "animals [84]: 0.33414426445961\n",
      "plants [40]: 0.13313624262809753\n",
      "other [376]: 0.2678578495979309\n"
     ]
    }
   ],
   "source": [
    "print('ORIGINAL')\n",
    "\n",
    "print_results(get_results_file(Path(\n",
    "    'PATH/simple_zsl/eval/eval/mp500/szsl_w2v_wiki_ALL/runzslrs-w2v1000_42'\n",
    ")))\n",
    "\n",
    "print('\\n\\n')\n",
    "print('Exclude animals')\n",
    "print_results(get_results_file(w2v_dir / 'runzslrs-w2v1000_splits_exclude_animals'))\n",
    "print('\\n\\n')\n",
    "print('Exclude non-animals')\n",
    "print_results(get_results_file(w2v_dir / 'runzslrs-w2v1000_splits_exclude_nonanimals'))\n",
    "print('\\n\\n')\n",
    "print('Exclude plants')\n",
    "print_results(get_results_file(w2v_dir / 'runzslrs-w2v1000_splits_exclude_plants'))\n",
    "print('\\n\\n')\n",
    "print('Exclude non-plants')\n",
    "print_results(get_results_file(w2v_dir / 'runzslrs-w2v1000_splits_exclude_nonplants'))"
   ]
  },
  {
   "cell_type": "markdown",
   "metadata": {},
   "source": [
    "# Top-1"
   ]
  },
  {
   "cell_type": "markdown",
   "metadata": {},
   "source": [
    "# ALBERT"
   ]
  },
  {
   "cell_type": "code",
   "execution_count": 10,
   "metadata": {},
   "outputs": [
    {
     "name": "stdout",
     "output_type": "stream",
     "text": [
      "ORIGINAL\n",
      "top1\n",
      "animals [82]: 0.17738662660121918\n",
      "plants [39]: 0.04505284130573273\n",
      "other [368]: 0.18251322209835052\n",
      "\n",
      "\n",
      "\n",
      "Exclude animals\n",
      "top1\n",
      "animals [82]: 0.0052273026667535305\n",
      "plants [39]: 0.04504355415701866\n",
      "other [368]: 0.1718398630619049\n",
      "\n",
      "\n",
      "\n",
      "Exclude non-animals\n",
      "top1\n",
      "animals [82]: 0.15595711767673492\n",
      "plants [39]: 0.04135487973690033\n",
      "other [368]: 0.09228634834289551\n",
      "\n",
      "\n",
      "\n",
      "Exclude plants\n",
      "top1\n",
      "animals [82]: 0.16423283517360687\n",
      "plants [39]: 0.029304247349500656\n",
      "other [368]: 0.18044663965702057\n",
      "\n",
      "\n",
      "\n",
      "Exclude non-plants\n",
      "top1\n",
      "animals [82]: 0.17628182470798492\n",
      "plants [39]: 0.04533558338880539\n",
      "other [368]: 0.18030618131160736\n"
     ]
    }
   ],
   "source": [
    "print('ORIGINAL')\n",
    "\n",
    "print_results(get_results_file(Path(\n",
    "    'PATH/simple_zsl/eval/eval/mp500/szsl_albert-xxl_wiki_ALL/runzslsrs-xxl1006_42'\n",
    ")))\n",
    "\n",
    "print('\\n\\n')\n",
    "print('Exclude animals')\n",
    "print_results(get_results_file(albert_dir / 'runzslsrs-xxl1006_splits_exclude_animals'))\n",
    "print('\\n\\n')\n",
    "print('Exclude non-animals')\n",
    "print_results(get_results_file(albert_dir / 'runzslsrs-xxl1006_splits_exclude_nonanimals'))\n",
    "print('\\n\\n')\n",
    "print('Exclude plants')\n",
    "print_results(get_results_file(albert_dir / 'runzslsrs-xxl1006_splits_exclude_plants'))\n",
    "print('\\n\\n')\n",
    "print('Exclude non-plants')\n",
    "print_results(get_results_file(albert_dir / 'runzslsrs-xxl1006_splits_exclude_nonplants'))"
   ]
  },
  {
   "cell_type": "markdown",
   "metadata": {},
   "source": [
    "# GloVe"
   ]
  },
  {
   "cell_type": "code",
   "execution_count": 11,
   "metadata": {},
   "outputs": [
    {
     "name": "stdout",
     "output_type": "stream",
     "text": [
      "ORIGINAL\n",
      "top1\n",
      "animals [82]: 0.16066966950893402\n",
      "plants [39]: 0.04735420644283295\n",
      "other [368]: 0.18157660961151123\n",
      "\n",
      "\n",
      "\n",
      "Exclude animals\n",
      "top1\n",
      "animals [82]: 0.015212352387607098\n",
      "plants [39]: 0.04170314222574234\n",
      "other [368]: 0.16079697012901306\n",
      "\n",
      "\n",
      "\n",
      "Exclude non-animals\n",
      "top1\n",
      "animals [82]: 0.14752954244613647\n",
      "plants [39]: 0.04186312481760979\n",
      "other [368]: 0.11348345130681992\n",
      "\n",
      "\n",
      "\n",
      "Exclude plants\n",
      "top1\n",
      "animals [82]: 0.15675824880599976\n",
      "plants [39]: 0.03751226142048836\n",
      "other [368]: 0.18325312435626984\n",
      "\n",
      "\n",
      "\n",
      "Exclude non-plants\n",
      "top1\n",
      "animals [82]: 0.14199692010879517\n",
      "plants [39]: 0.0430646650493145\n",
      "other [368]: 0.18169493973255157\n"
     ]
    }
   ],
   "source": [
    "print('ORIGINAL')\n",
    "\n",
    "print_results(get_results_file(Path(\n",
    "    'PATH/simple_zsl/eval/eval/mp500/szsl_wemb_glove_wiki_ALL/test_runzslsrs-wemb-glove-1015_42'\n",
    ")))\n",
    "\n",
    "print('\\n\\n')\n",
    "print('Exclude animals')\n",
    "print_results(get_results_file(glove_dir / 'test_runzslsrs-wemb-glove-1015_splits_exclude_animals'))\n",
    "print('\\n\\n')\n",
    "print('Exclude non-animals')\n",
    "print_results(get_results_file(glove_dir / 'test_runzslsrs-wemb-glove-1015_splits_exclude_nonanimals'))\n",
    "print('\\n\\n')\n",
    "print('Exclude plants')\n",
    "print_results(get_results_file(glove_dir / 'test_runzslsrs-wemb-glove-1015_splits_exclude_plants'))\n",
    "print('\\n\\n')\n",
    "print('Exclude non-plants')\n",
    "print_results(get_results_file(glove_dir / 'test_runzslsrs-wemb-glove-1015_splits_exclude_nonplants'))"
   ]
  },
  {
   "cell_type": "markdown",
   "metadata": {},
   "source": [
    "# W2V"
   ]
  },
  {
   "cell_type": "code",
   "execution_count": 12,
   "metadata": {},
   "outputs": [
    {
     "name": "stdout",
     "output_type": "stream",
     "text": [
      "ORIGINAL\n",
      "top1\n",
      "animals [84]: 0.13174481689929962\n",
      "plants [40]: 0.03085876628756523\n",
      "other [376]: 0.08912833034992218\n",
      "\n",
      "\n",
      "\n",
      "Exclude animals\n",
      "top1\n",
      "animals [84]: 0.023934148252010345\n",
      "plants [40]: 0.035504817962646484\n",
      "other [376]: 0.08015356212854385\n",
      "\n",
      "\n",
      "\n",
      "Exclude non-animals\n",
      "top1\n",
      "animals [84]: 0.11274704337120056\n",
      "plants [40]: 0.04302377626299858\n",
      "other [376]: 0.058190081268548965\n",
      "\n",
      "\n",
      "\n",
      "Exclude plants\n",
      "top1\n",
      "animals [84]: 0.12131133675575256\n",
      "plants [40]: 0.028008539229631424\n",
      "other [376]: 0.08286122977733612\n",
      "\n",
      "\n",
      "\n",
      "Exclude non-plants\n",
      "top1\n",
      "animals [84]: 0.12293537706136703\n",
      "plants [40]: 0.029959997162222862\n",
      "other [376]: 0.08713536709547043\n"
     ]
    }
   ],
   "source": [
    "print('ORIGINAL')\n",
    "\n",
    "print_results(get_results_file(Path(\n",
    "    'PATH/simple_zsl/eval/eval/mp500/szsl_w2v_wiki_ALL/runzslrs-w2v1000_42'\n",
    ")))\n",
    "\n",
    "print('\\n\\n')\n",
    "print('Exclude animals')\n",
    "print_results(get_results_file(w2v_dir / 'runzslrs-w2v1000_splits_exclude_animals'))\n",
    "print('\\n\\n')\n",
    "print('Exclude non-animals')\n",
    "print_results(get_results_file(w2v_dir / 'runzslrs-w2v1000_splits_exclude_nonanimals'))\n",
    "print('\\n\\n')\n",
    "print('Exclude plants')\n",
    "print_results(get_results_file(w2v_dir / 'runzslrs-w2v1000_splits_exclude_plants'))\n",
    "print('\\n\\n')\n",
    "print('Exclude non-plants')\n",
    "print_results(get_results_file(w2v_dir / 'runzslrs-w2v1000_splits_exclude_nonplants'))"
   ]
  }
 ],
 "metadata": {
  "kernelspec": {
   "display_name": "Python [conda env:dl] *",
   "language": "python",
   "name": "conda-env-dl-py"
  },
  "language_info": {
   "codemirror_mode": {
    "name": "ipython",
    "version": 3
   },
   "file_extension": ".py",
   "mimetype": "text/x-python",
   "name": "python",
   "nbconvert_exporter": "python",
   "pygments_lexer": "ipython3",
   "version": "3.7.7"
  }
 },
 "nbformat": 4,
 "nbformat_minor": 4
}
