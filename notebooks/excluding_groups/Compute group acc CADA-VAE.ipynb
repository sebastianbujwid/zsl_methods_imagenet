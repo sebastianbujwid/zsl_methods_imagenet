{
 "cells": [
  {
   "cell_type": "code",
   "execution_count": 1,
   "metadata": {},
   "outputs": [
    {
     "name": "stdout",
     "output_type": "stream",
     "text": [
      "env: CUDA_DEVICE_ORDER=PCI_BUS_ID\n",
      "env: CUDA_VISIBLE_DEVICES=0\n"
     ]
    }
   ],
   "source": [
    "%env CUDA_DEVICE_ORDER=PCI_BUS_ID\n",
    "%env CUDA_VISIBLE_DEVICES=0"
   ]
  },
  {
   "cell_type": "code",
   "execution_count": 2,
   "metadata": {},
   "outputs": [],
   "source": [
    "import sys\n",
    "import pickle\n",
    "import numpy as np\n",
    "from pathlib import Path\n",
    "\n",
    "sys.path.append('PATH/code/zsl_text_imagenet/') # https://github.com/sebastianbujwid/zsl_text_imagenet"
   ]
  },
  {
   "cell_type": "code",
   "execution_count": 3,
   "metadata": {},
   "outputs": [],
   "source": [
    "from data import imagenet"
   ]
  },
  {
   "cell_type": "code",
   "execution_count": 4,
   "metadata": {},
   "outputs": [],
   "source": [
    "wnid_animals = 'n00015388'\n",
    "wnid_plants = ['n00017222', 'n07707451', 'n13134947']"
   ]
  },
  {
   "cell_type": "code",
   "execution_count": null,
   "metadata": {},
   "outputs": [],
   "source": [
    "imagenet_id_details = imagenet.extract_imagenet_id_details(\n",
    "    '/PATH/data/zsl/synthetized_classifiers_for_zsl/ImageNet_w2v/ImageNet_w2v_extra.pkl'\n",
    ")\n",
    "imagenet_ancestors = pickle.load(\n",
    "    open('PATH/code/zsl_text_imagenet/data/imagenet/imagenet_wordnet_ancestor_categories.pkl', 'rb')\n",
    ")"
   ]
  },
  {
   "cell_type": "code",
   "execution_count": 6,
   "metadata": {},
   "outputs": [],
   "source": [
    "def is_a(wnid, group_wnids):\n",
    "    if isinstance(group_wnids, str):\n",
    "        group_wnids = [group_wnids]\n",
    "    \n",
    "    r = False\n",
    "    for g_wnid in group_wnids:\n",
    "        if g_wnid in imagenet_ancestors[wnid]:\n",
    "            r = True\n",
    "    \n",
    "    return r\n",
    "\n",
    "def print_results(pkl):\n",
    "    d = pickle.load(open(pkl, 'rb'))\n",
    "    \n",
    "    print('top1')\n",
    "    animals = {}\n",
    "    plants = {}\n",
    "    other = {}\n",
    "    for wnid, r in d['test_unseen_top1_acc'].items():\n",
    "        if is_a(wnid, wnid_animals):\n",
    "            animals[wnid] = r\n",
    "        elif is_a(wnid, wnid_plants):\n",
    "            plants[wnid] = r\n",
    "        else:\n",
    "            other[wnid] = r\n",
    "            \n",
    "    print(f'animals [{len(animals)}]: {np.array(list(animals.values())).mean()}')\n",
    "    print(f'plants [{len(plants)}]: {np.array(list(plants.values())).mean()}')\n",
    "    print(f'other [{len(other)}]: {np.array(list(other.values())).mean()}')\n",
    "    \n",
    "    print()\n",
    "    print('top5')\n",
    "    animals = {}\n",
    "    plants = {}\n",
    "    other = {}\n",
    "    for wnid, r in d['test_unseen_top5_acc'].items():\n",
    "        if is_a(wnid, wnid_animals):\n",
    "            animals[wnid] = r\n",
    "        elif is_a(wnid, wnid_plants):\n",
    "            plants[wnid] = r\n",
    "        else:\n",
    "            other[wnid] = r\n",
    "            \n",
    "    print(f'animals [{len(animals)}]: {np.array(list(animals.values())).mean()}')\n",
    "    print(f'plants [{len(plants)}]: {np.array(list(plants.values())).mean()}')\n",
    "    print(f'other [{len(other)}]: {np.array(list(other.values())).mean()}')\n"
   ]
  },
  {
   "cell_type": "code",
   "execution_count": 20,
   "metadata": {},
   "outputs": [],
   "source": [
    "glove_dir = Path('PATH/cada_vae/zls/eval/exclude_groups_mp500/glove_ALL-runrs-1019')\n",
    "w2v_dir = Path('PATH/cada_vae/zls/eval/exclude_groups_mp500/w2v_ALL_run-0105')"
   ]
  },
  {
   "cell_type": "code",
   "execution_count": 8,
   "metadata": {},
   "outputs": [],
   "source": [
    "def get_results_file(path: Path):\n",
    "    r = list(path.rglob('test_results_mp500.pkl'))\n",
    "    if len(r) != 1:\n",
    "        raise ValueError(f'Could not get results from {path}\\n{r}')\n",
    "    return r[0]"
   ]
  },
  {
   "cell_type": "markdown",
   "metadata": {},
   "source": [
    "# GloVe"
   ]
  },
  {
   "cell_type": "code",
   "execution_count": 13,
   "metadata": {},
   "outputs": [
    {
     "name": "stdout",
     "output_type": "stream",
     "text": [
      "ORIGINAL\n",
      "\n",
      "top1\n",
      "animals [82]: 0.30406734347343445\n",
      "plants [39]: 0.05324960872530937\n",
      "other [368]: 0.2289818525314331\n",
      "\n",
      "top5\n",
      "animals [82]: 0.6531624794006348\n",
      "plants [39]: 0.1956728994846344\n",
      "other [368]: 0.5197874903678894\n"
     ]
    }
   ],
   "source": [
    "print('ORIGINAL')\n",
    "print()\n",
    "\n",
    "#print_results(get_results_file(glove_dir / 'test_runrs-1019_splits_exclude_animals'))\n",
    "print_results(get_results_file(Path('PATH/cada_vae/zls/eval/mp500_seeds/wemb_glove_wiki_ALL/test_runrs-1019_42')))"
   ]
  },
  {
   "cell_type": "code",
   "execution_count": 16,
   "metadata": {},
   "outputs": [
    {
     "name": "stdout",
     "output_type": "stream",
     "text": [
      "Exclude animals\n",
      "top1\n",
      "animals [82]: 0.035174403339624405\n",
      "plants [39]: 0.04470792040228844\n",
      "other [368]: 0.23357896506786346\n",
      "\n",
      "top5\n",
      "animals [82]: 0.1655680537223816\n",
      "plants [39]: 0.1770179271697998\n",
      "other [368]: 0.5298458337783813\n"
     ]
    }
   ],
   "source": [
    "print('Exclude animals')\n",
    "\n",
    "print_results(get_results_file(glove_dir / 'test_runrs-1019_splits_exclude_animals'))"
   ]
  },
  {
   "cell_type": "code",
   "execution_count": 17,
   "metadata": {},
   "outputs": [
    {
     "name": "stdout",
     "output_type": "stream",
     "text": [
      "Exclude non-animals\n",
      "top1\n",
      "animals [82]: 0.28735244274139404\n",
      "plants [39]: 0.05588745325803757\n",
      "other [368]: 0.15317945182323456\n",
      "\n",
      "top5\n",
      "animals [82]: 0.6059836745262146\n",
      "plants [39]: 0.21623875200748444\n",
      "other [368]: 0.4171987473964691\n"
     ]
    }
   ],
   "source": [
    "print('Exclude non-animals')\n",
    "\n",
    "print_results(get_results_file(glove_dir / 'test_runrs-1019_splits_exclude_nonanimals'))"
   ]
  },
  {
   "cell_type": "code",
   "execution_count": 18,
   "metadata": {},
   "outputs": [
    {
     "name": "stdout",
     "output_type": "stream",
     "text": [
      "Exclude plants\n",
      "top1\n",
      "animals [82]: 0.2955893874168396\n",
      "plants [39]: 0.039253078401088715\n",
      "other [368]: 0.22637777030467987\n",
      "\n",
      "top5\n",
      "animals [82]: 0.6307775974273682\n",
      "plants [39]: 0.16180501878261566\n",
      "other [368]: 0.5232211351394653\n"
     ]
    }
   ],
   "source": [
    "print('Exclude plants')\n",
    "\n",
    "print_results(get_results_file(glove_dir / 'test_runrs-1019_splits_exclude_plants'))"
   ]
  },
  {
   "cell_type": "code",
   "execution_count": 19,
   "metadata": {},
   "outputs": [
    {
     "name": "stdout",
     "output_type": "stream",
     "text": [
      "Exclude non-plants\n",
      "top1\n",
      "animals [82]: 0.2828812897205353\n",
      "plants [39]: 0.06005560979247093\n",
      "other [368]: 0.22614313662052155\n",
      "\n",
      "top5\n",
      "animals [82]: 0.6228954195976257\n",
      "plants [39]: 0.21263594925403595\n",
      "other [368]: 0.523369312286377\n"
     ]
    }
   ],
   "source": [
    "print('Exclude non-plants')\n",
    "\n",
    "print_results(get_results_file(glove_dir / 'test_runrs-1019_splits_exclude_nonplants'))"
   ]
  },
  {
   "cell_type": "markdown",
   "metadata": {},
   "source": [
    "# W2V"
   ]
  },
  {
   "cell_type": "code",
   "execution_count": 23,
   "metadata": {},
   "outputs": [
    {
     "name": "stdout",
     "output_type": "stream",
     "text": [
      "ORIGINAL\n",
      "top1\n",
      "animals [84]: 0.24303874373435974\n",
      "plants [40]: 0.04472198337316513\n",
      "other [376]: 0.15240199863910675\n",
      "\n",
      "top5\n",
      "animals [84]: 0.5349633097648621\n",
      "plants [40]: 0.16210314631462097\n",
      "other [376]: 0.3771316409111023\n",
      "\n",
      "\n",
      "\n",
      "Exclude animals\n",
      "top1\n",
      "animals [84]: 0.018810583278536797\n",
      "plants [40]: 0.059906255453825\n",
      "other [376]: 0.15394273400306702\n",
      "\n",
      "top5\n",
      "animals [84]: 0.09239127486944199\n",
      "plants [40]: 0.1731281280517578\n",
      "other [376]: 0.37351885437965393\n",
      "\n",
      "\n",
      "\n",
      "Exclude non-animals\n",
      "top1\n",
      "animals [84]: 0.23640015721321106\n",
      "plants [40]: 0.040690865367650986\n",
      "other [376]: 0.10637575387954712\n",
      "\n",
      "top5\n",
      "animals [84]: 0.5178735256195068\n",
      "plants [40]: 0.1280914843082428\n",
      "other [376]: 0.2969052195549011\n",
      "\n",
      "\n",
      "\n",
      "Exclude plants\n",
      "top1\n",
      "animals [84]: 0.2369118183851242\n",
      "plants [40]: 0.03404001519083977\n",
      "other [376]: 0.15326803922653198\n",
      "\n",
      "top5\n",
      "animals [84]: 0.539307713508606\n",
      "plants [40]: 0.14207112789154053\n",
      "other [376]: 0.37735289335250854\n",
      "\n",
      "\n",
      "\n",
      "Exclude non-plants\n",
      "top1\n",
      "animals [84]: 0.2434440404176712\n",
      "plants [40]: 0.04124293476343155\n",
      "other [376]: 0.14881731569766998\n",
      "\n",
      "top5\n",
      "animals [84]: 0.5247493982315063\n",
      "plants [40]: 0.14856724441051483\n",
      "other [376]: 0.374559611082077\n"
     ]
    }
   ],
   "source": [
    "print('ORIGINAL')\n",
    "\n",
    "print_results(get_results_file(Path('PATH/cada_vae/zls/eval/mp500_seeds/w2v_wiki_ALL_better/run-0105_1lv3-arch-l1024-hi-sharedspaceenforce-b128_42')))\n",
    "\n",
    "print('\\n\\n')\n",
    "print('Exclude animals')\n",
    "print_results(get_results_file(w2v_dir / 'run-0105_1lv3-arch-l1024-hi-sharedspaceenforce-b128_splits_exclude_animals'))\n",
    "print('\\n\\n')\n",
    "print('Exclude non-animals')\n",
    "print_results(get_results_file(w2v_dir / 'run-0105_1lv3-arch-l1024-hi-sharedspaceenforce-b128_splits_exclude_nonanimals'))\n",
    "print('\\n\\n')\n",
    "print('Exclude plants')\n",
    "print_results(get_results_file(w2v_dir / 'run-0105_1lv3-arch-l1024-hi-sharedspaceenforce-b128_splits_exclude_plants'))\n",
    "print('\\n\\n')\n",
    "print('Exclude non-plants')\n",
    "print_results(get_results_file(w2v_dir / 'run-0105_1lv3-arch-l1024-hi-sharedspaceenforce-b128_splits_exclude_nonplants'))"
   ]
  }
 ],
 "metadata": {
  "kernelspec": {
   "display_name": "Python [conda env:dl] *",
   "language": "python",
   "name": "conda-env-dl-py"
  },
  "language_info": {
   "codemirror_mode": {
    "name": "ipython",
    "version": 3
   },
   "file_extension": ".py",
   "mimetype": "text/x-python",
   "name": "python",
   "nbconvert_exporter": "python",
   "pygments_lexer": "ipython3",
   "version": "3.7.7"
  }
 },
 "nbformat": 4,
 "nbformat_minor": 4
}
