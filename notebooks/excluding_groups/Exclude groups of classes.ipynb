{
 "cells": [
  {
   "cell_type": "code",
   "execution_count": 1,
   "metadata": {},
   "outputs": [],
   "source": [
    "import sys\n",
    "import pickle\n",
    "import pymatreader\n",
    "import numpy as np\n",
    "import scipy.io as spio\n",
    "from pathlib import Path\n",
    "\n",
    "sys.path.append('PATH/code/zsl_text_imagenet/') # https://github.com/sebastianbujwid/zsl_text_imagenet"
   ]
  },
  {
   "cell_type": "code",
   "execution_count": 2,
   "metadata": {},
   "outputs": [],
   "source": [
    "from data import imagenet"
   ]
  },
  {
   "cell_type": "code",
   "execution_count": 3,
   "metadata": {},
   "outputs": [],
   "source": [
    "def read_split_file(imagenet_class_splits_file):\n",
    "    att_split = pymatreader.read_mat(imagenet_class_splits_file)\n",
    "\n",
    "    trainval_classes = set(np.array(att_split['trainval_classes'], dtype=np.int64))\n",
    "    mp500_classes = set(np.array(att_split['mp500'], dtype=np.int64))\n",
    "    assert min(trainval_classes) == 1\n",
    "    assert max(trainval_classes) == 1000\n",
    "    \n",
    "    return trainval_classes, mp500_classes"
   ]
  },
  {
   "cell_type": "code",
   "execution_count": null,
   "metadata": {},
   "outputs": [],
   "source": [
    "imagenet_id_details = imagenet.extract_imagenet_id_details(\n",
    "    '/PATH/data/zsl/synthetized_classifiers_for_zsl/ImageNet_w2v/ImageNet_w2v_extra.pkl'\n",
    ")\n",
    "imagenet_ancestors = pickle.load(\n",
    "    open('PATH/code/zsl_text_imagenet/data/imagenet/imagenet_wordnet_ancestor_categories.pkl', 'rb')\n",
    ")"
   ]
  },
  {
   "cell_type": "code",
   "execution_count": 6,
   "metadata": {},
   "outputs": [],
   "source": [
    "split_file = 'PATH/data/data/zsl/zsl_a_comprehensive_evaluation/ImageNet_splits.mat'"
   ]
  },
  {
   "cell_type": "code",
   "execution_count": 7,
   "metadata": {},
   "outputs": [],
   "source": [
    "orig_trainval_split, mp500_classses = read_split_file(split_file)"
   ]
  },
  {
   "cell_type": "code",
   "execution_count": 8,
   "metadata": {},
   "outputs": [],
   "source": [
    "def exclude_classes(imagenet_ids, exclude_wnid_categories):\n",
    "    if isinstance(exclude_wnid_categories, str):\n",
    "        exclude_wnid_categories = [exclude_wnid_categories]\n",
    "        \n",
    "    classes = set()\n",
    "    for imagenet_id in imagenet_ids:\n",
    "        wnid, phrases = imagenet_id_details[imagenet_id]\n",
    "        keep = True\n",
    "        for exclude_wnid_c in exclude_wnid_categories:\n",
    "            if exclude_wnid_c in imagenet_ancestors[wnid]:\n",
    "                keep = False\n",
    "        \n",
    "        if keep:\n",
    "            classes.add(imagenet_id)\n",
    "            \n",
    "    return classes, imagenet_ids.difference(classes)"
   ]
  },
  {
   "cell_type": "code",
   "execution_count": 9,
   "metadata": {},
   "outputs": [],
   "source": [
    "def print_split(imagenet_ids):\n",
    "    for imagenet_id in imagenet_ids:\n",
    "        print(imagenet_id_details[imagenet_id])"
   ]
  },
  {
   "cell_type": "code",
   "execution_count": 10,
   "metadata": {},
   "outputs": [],
   "source": [
    "# orig_trainval_split\n",
    "wnid_animals = 'n00015388'\n",
    "wnid_plants = ['n00017222', 'n07707451', 'n13134947']"
   ]
  },
  {
   "cell_type": "code",
   "execution_count": 11,
   "metadata": {},
   "outputs": [],
   "source": [
    "# print_split(exclude_classes(orig_trainval_split, exclude_wnid_categories=wnid_animals))"
   ]
  },
  {
   "cell_type": "code",
   "execution_count": 12,
   "metadata": {},
   "outputs": [],
   "source": [
    "split_exclude_animals, classes_animals = exclude_classes(orig_trainval_split, exclude_wnid_categories=wnid_animals)\n",
    "split_exclude_plants, classes_plants = exclude_classes(orig_trainval_split, exclude_wnid_categories=wnid_plants)\n",
    "split_rest = split_exclude_animals.intersection(split_exclude_plants)"
   ]
  },
  {
   "cell_type": "code",
   "execution_count": 13,
   "metadata": {},
   "outputs": [],
   "source": [
    "assert len(classes_animals.intersection(classes_plants)) == 0"
   ]
  },
  {
   "cell_type": "code",
   "execution_count": 14,
   "metadata": {},
   "outputs": [
    {
     "data": {
      "text/plain": [
       "(398, 31, 571)"
      ]
     },
     "execution_count": 14,
     "metadata": {},
     "output_type": "execute_result"
    }
   ],
   "source": [
    "assert len(classes_animals) + len(classes_plants) + len(split_rest) == len(orig_trainval_split)\n",
    "len(classes_animals), len(classes_plants), len(split_rest)"
   ]
  },
  {
   "cell_type": "code",
   "execution_count": 15,
   "metadata": {},
   "outputs": [
    {
     "name": "stdout",
     "output_type": "stream",
     "text": [
      "500\n",
      "84 40 376\n"
     ]
    }
   ],
   "source": [
    "def check_mp500():\n",
    "    print(len(mp500_classses))\n",
    "    _, classes_animals = exclude_classes(mp500_classses, wnid_animals)\n",
    "    _, classes_plants = exclude_classes(mp500_classses, wnid_plants)\n",
    "    split_rest = (mp500_classses.difference(classes_animals)).difference(classes_plants)\n",
    "    print(len(classes_animals), len(classes_plants), len(split_rest))    \n",
    "    \n",
    "check_mp500()"
   ]
  },
  {
   "cell_type": "code",
   "execution_count": 16,
   "metadata": {},
   "outputs": [],
   "source": [
    "np.random.seed(42)"
   ]
  },
  {
   "cell_type": "code",
   "execution_count": 17,
   "metadata": {},
   "outputs": [],
   "source": [
    "def exclude_nongroup(split_excluded_group):\n",
    "    num_classes = len(split_excluded_group)\n",
    "    group_classes = orig_trainval_split.difference(split_excluded_group)\n",
    "    num_to_sample = num_classes - len(group_classes)\n",
    "    \n",
    "    sampled_classes = np.random.choice(sorted(list(split_excluded_group)), num_to_sample, replace=False)\n",
    "    assert len(group_classes.intersection(split_excluded_group)) == 0\n",
    "    \n",
    "    split_classes = group_classes.union(sampled_classes)\n",
    "    assert len(group_classes.intersection(sampled_classes)) == 0\n",
    "    assert len(split_classes) == (len(group_classes) + len(sampled_classes))\n",
    "    \n",
    "    assert len(split_classes) == len(split_excluded_group)\n",
    "    \n",
    "    return split_classes"
   ]
  },
  {
   "cell_type": "code",
   "execution_count": 18,
   "metadata": {},
   "outputs": [],
   "source": [
    "split_exclude_nonanimals = exclude_nongroup(split_exclude_animals)\n",
    "split_exclude_nonplants = exclude_nongroup(split_exclude_plants)"
   ]
  },
  {
   "cell_type": "code",
   "execution_count": 19,
   "metadata": {},
   "outputs": [],
   "source": [
    "def save_split(split, name):\n",
    "    att_split = pymatreader.read_mat(split_file)\n",
    "\n",
    "    trainval_classes = set(np.array(att_split['trainval_classes'], dtype=np.int64))\n",
    "    \n",
    "    assert min(trainval_classes) == 1\n",
    "    assert max(trainval_classes) == 1000\n",
    "    \n",
    "    att_split['trainval_classes'] = np.array(sorted(list(split)))\n",
    "    \n",
    "    spio.savemat(name, att_split)"
   ]
  },
  {
   "cell_type": "code",
   "execution_count": 21,
   "metadata": {},
   "outputs": [],
   "source": [
    "save_split(split_exclude_animals, 'splits_exclude_animals.mat')\n",
    "save_split(split_exclude_plants, 'splits_exclude_plants.mat')\n",
    "save_split(split_exclude_nonanimals, 'splits_exclude_nonanimals.mat')\n",
    "save_split(split_exclude_nonplants, 'splits_exclude_nonplants.mat')"
   ]
  },
  {
   "cell_type": "markdown",
   "metadata": {},
   "source": [
    "## Number of classes with aux"
   ]
  },
  {
   "cell_type": "code",
   "execution_count": 25,
   "metadata": {},
   "outputs": [],
   "source": [
    "aux_feats = pickle.load(open('PATH/encode_wiki_text/matching_v4/albert-xxlarge-v2_wiki_ALL/ImageNet/ALBERT_ImageNet_trainval_classes_classes.pkl', 'rb'))\n",
    "with_aux = set(aux_feats.keys())"
   ]
  },
  {
   "cell_type": "code",
   "execution_count": 32,
   "metadata": {},
   "outputs": [
    {
     "name": "stdout",
     "output_type": "stream",
     "text": [
      "animals: 389\n",
      "plants: 31\n",
      "rest: 556\n"
     ]
    }
   ],
   "source": [
    "print('animals:', len(with_aux.intersection(classes_animals)))\n",
    "print('plants:', len(with_aux.intersection(classes_plants)))\n",
    "print('rest:', len(with_aux.intersection(split_rest)))"
   ]
  }
 ],
 "metadata": {
  "kernelspec": {
   "display_name": "Python [conda env:dl] *",
   "language": "python",
   "name": "conda-env-dl-py"
  },
  "language_info": {
   "codemirror_mode": {
    "name": "ipython",
    "version": 3
   },
   "file_extension": ".py",
   "mimetype": "text/x-python",
   "name": "python",
   "nbconvert_exporter": "python",
   "pygments_lexer": "ipython3",
   "version": "3.7.7"
  }
 },
 "nbformat": 4,
 "nbformat_minor": 4
}
